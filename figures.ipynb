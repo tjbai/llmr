{
 "cells": [
  {
   "cell_type": "markdown",
   "metadata": {},
   "source": [
    "# examine outputs"
   ]
  },
  {
   "cell_type": "code",
   "execution_count": null,
   "metadata": {},
   "outputs": [],
   "source": [
    "import json\n",
    "from collections import defaultdict\n",
    "\n",
    "stats = {\n",
    "    'problems': 0,\n",
    "    'total_gens': 0,\n",
    "    'total_tests': 0,\n",
    "    'passed_tests': 0,\n",
    "}\n",
    "errors = defaultdict(int)\n",
    "test_results = []\n",
    "\n",
    "with open('outputs/70b_test.jsonl', 'r') as f:\n",
    "    for line in f:\n",
    "        o = json.loads(line)\n",
    "        stats['problems'] += 1\n",
    "        num_gens = len(o['results'])\n",
    "        stats['total_gens'] += num_gens\n",
    "        \n",
    "        for r in o['results']:\n",
    "            if r['code_error']: \n",
    "                errors[r['code_error']] += 1\n",
    "                continue\n",
    "                \n",
    "            num_tests = len(r['test_results'])\n",
    "            stats['total_tests'] += num_tests\n",
    "            stats['passed_tests'] += r['pass']\n",
    "            \n",
    "            for i, (result, _) in enumerate(r['test_results']):\n",
    "                while len(test_results) <= i:\n",
    "                    test_results.append({'pass': 0, 'total': 0})\n",
    "                test_results[i]['total'] += 1\n",
    "                if result == 'pass':\n",
    "                    test_results[i]['pass'] += 1\n",
    "\n",
    "print(f\"Problems: {stats['problems']}\")\n",
    "print(f\"Generations: {stats['total_gens']}\")\n",
    "print(f\"Pass rate: {stats['passed_tests'] / stats['total_tests']:.1%}\")\n",
    "\n",
    "print(\"\\nPass rate by test position:\")\n",
    "for i, res in enumerate(test_results):\n",
    "    rate = res['pass'] / res['total']\n",
    "    bar = '#' * int(rate * 40)\n",
    "    print(f\"Test {i+1}: {rate:.1%} |{bar:<40}|\")\n",
    "\n",
    "print(\"\\nTop errors:\")\n",
    "for err, count in sorted(errors.items(), key=lambda x: x[1], reverse=True)[:5]:\n",
    "    print(f\"- {err}: {count}\")"
   ]
  },
  {
   "cell_type": "markdown",
   "metadata": {},
   "source": [
    "# compute winrates"
   ]
  },
  {
   "cell_type": "code",
   "execution_count": 1,
   "metadata": {},
   "outputs": [
    {
     "name": "stderr",
     "output_type": "stream",
     "text": [
      "/usr/local/anaconda3/envs/llmr/lib/python3.12/site-packages/tqdm/auto.py:21: TqdmWarning: IProgress not found. Please update jupyter and ipywidgets. See https://ipywidgets.readthedocs.io/en/stable/user_install.html\n",
      "  from .autonotebook import tqdm as notebook_tqdm\n"
     ]
    },
    {
     "data": {
      "image/png": "[encoded data removed]",
      "text/plain": [
       "<Figure size 640x480 with 1 Axes>"
      ]
     },
     "metadata": {},
     "output_type": "display_data"
    }
   ],
   "source": [
    "import json\n",
    "from collections import defaultdict\n",
    "import matplotlib.pyplot as plt\n",
    "from sample import format_prompt\n",
    "\n",
    "def compare(gen1, gen2, tok1, tok2):\n",
    "    if not gen1.get('code_error') and not gen2.get('code_error'):\n",
    "        if gen1['pass'] != gen2['pass']:\n",
    "            return gen1['pass'] > gen2['pass']\n",
    "        return tok1 <= tok2\n",
    "    if gen1.get('code_error') is None and gen2.get('code_error') is None:\n",
    "        raise Exception('both failed')\n",
    "    return not gen1.get('code_error')\n",
    "\n",
    "file1 = 'outputs/1b_train_outputs.jsonl'\n",
    "file2 = 'outputs/70b_train_outputs.jsonl'\n",
    "output = 'outputs/1b_70b_wins.jsonl'\n",
    "\n",
    "win_freq = defaultdict(int)\n",
    "with open(file1) as f1, open(file2) as f2, open(output, 'w') as f_out:\n",
    "    for line1, line2 in zip(f1, f2):\n",
    "        o1, o2 = json.loads(line1), json.loads(line2)\n",
    "        prompt = format_prompt(o1['item'])\n",
    "        wins = sum(compare(*pair) for pair in zip(o1['results'], o2['results'], o1['num_tokens'], o2['num_tokens']))\n",
    "        win_freq[wins] += 1\n",
    "        json.dump({'prompt': prompt, 'target': wins / 10}, f_out)\n",
    "        f_out.write('\\n')\n",
    "\n",
    "k, v = zip(*list(sorted(win_freq.items(), key=lambda x: x[0])))\n",
    "plt.bar(list(k), list(v))\n",
    "plt.tight_layout()\n",
    "plt.savefig('figures/1b_70b_wins.png')"
   ]
  }
 ],
 "metadata": {
  "kernelspec": {
   "display_name": "llmr",
   "language": "python",
   "name": "python3"
  },
  "language_info": {
   "codemirror_mode": {
    "name": "ipython",
    "version": 3
   },
   "file_extension": ".py",
   "mimetype": "text/x-python",
   "name": "python",
   "nbconvert_exporter": "python",
   "pygments_lexer": "ipython3",
   "version": "3.12.7"
  }
 },
 "nbformat": 4,
 "nbformat_minor": 2
}
